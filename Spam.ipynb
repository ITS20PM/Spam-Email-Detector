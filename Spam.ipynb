{
 "cells": [
  {
   "cell_type": "markdown",
   "id": "ff425888",
   "metadata": {},
   "source": [
    "## Import libraries"
   ]
  },
  {
   "cell_type": "code",
   "execution_count": 80,
   "id": "2a6a9659",
   "metadata": {},
   "outputs": [],
   "source": [
    "import pandas as pd\n",
    "import re\n",
    "import random"
   ]
  },
  {
   "cell_type": "markdown",
   "id": "679e2e11",
   "metadata": {},
   "source": [
    "## read the csv file"
   ]
  },
  {
   "cell_type": "code",
   "execution_count": 69,
   "id": "213dd0a4",
   "metadata": {},
   "outputs": [
    {
     "data": {
      "text/html": [
       "<div>\n",
       "<style scoped>\n",
       "    .dataframe tbody tr th:only-of-type {\n",
       "        vertical-align: middle;\n",
       "    }\n",
       "\n",
       "    .dataframe tbody tr th {\n",
       "        vertical-align: top;\n",
       "    }\n",
       "\n",
       "    .dataframe thead th {\n",
       "        text-align: right;\n",
       "    }\n",
       "</style>\n",
       "<table border=\"1\" class=\"dataframe\">\n",
       "  <thead>\n",
       "    <tr style=\"text-align: right;\">\n",
       "      <th></th>\n",
       "      <th>v1</th>\n",
       "      <th>v2</th>\n",
       "      <th>Unnamed: 2</th>\n",
       "      <th>Unnamed: 3</th>\n",
       "      <th>Unnamed: 4</th>\n",
       "    </tr>\n",
       "  </thead>\n",
       "  <tbody>\n",
       "    <tr>\n",
       "      <th>0</th>\n",
       "      <td>ham</td>\n",
       "      <td>Go until jurong point, crazy.. Available only ...</td>\n",
       "      <td>NaN</td>\n",
       "      <td>NaN</td>\n",
       "      <td>NaN</td>\n",
       "    </tr>\n",
       "    <tr>\n",
       "      <th>1</th>\n",
       "      <td>ham</td>\n",
       "      <td>Ok lar... Joking wif u oni...</td>\n",
       "      <td>NaN</td>\n",
       "      <td>NaN</td>\n",
       "      <td>NaN</td>\n",
       "    </tr>\n",
       "    <tr>\n",
       "      <th>2</th>\n",
       "      <td>spam</td>\n",
       "      <td>Free entry in 2 a wkly comp to win FA Cup fina...</td>\n",
       "      <td>NaN</td>\n",
       "      <td>NaN</td>\n",
       "      <td>NaN</td>\n",
       "    </tr>\n",
       "    <tr>\n",
       "      <th>3</th>\n",
       "      <td>ham</td>\n",
       "      <td>U dun say so early hor... U c already then say...</td>\n",
       "      <td>NaN</td>\n",
       "      <td>NaN</td>\n",
       "      <td>NaN</td>\n",
       "    </tr>\n",
       "    <tr>\n",
       "      <th>4</th>\n",
       "      <td>ham</td>\n",
       "      <td>Nah I don't think he goes to usf, he lives aro...</td>\n",
       "      <td>NaN</td>\n",
       "      <td>NaN</td>\n",
       "      <td>NaN</td>\n",
       "    </tr>\n",
       "  </tbody>\n",
       "</table>\n",
       "</div>"
      ],
      "text/plain": [
       "     v1                                                 v2 Unnamed: 2  \\\n",
       "0   ham  Go until jurong point, crazy.. Available only ...        NaN   \n",
       "1   ham                      Ok lar... Joking wif u oni...        NaN   \n",
       "2  spam  Free entry in 2 a wkly comp to win FA Cup fina...        NaN   \n",
       "3   ham  U dun say so early hor... U c already then say...        NaN   \n",
       "4   ham  Nah I don't think he goes to usf, he lives aro...        NaN   \n",
       "\n",
       "  Unnamed: 3 Unnamed: 4  \n",
       "0        NaN        NaN  \n",
       "1        NaN        NaN  \n",
       "2        NaN        NaN  \n",
       "3        NaN        NaN  \n",
       "4        NaN        NaN  "
      ]
     },
     "execution_count": 69,
     "metadata": {},
     "output_type": "execute_result"
    }
   ],
   "source": [
    "df = pd.read_csv('spam.csv', encoding = 'latin')\n",
    "df.head()"
   ]
  },
  {
   "cell_type": "markdown",
   "id": "0cc4526e",
   "metadata": {},
   "source": [
    "## Number of emails"
   ]
  },
  {
   "cell_type": "code",
   "execution_count": 70,
   "id": "33523d44",
   "metadata": {},
   "outputs": [
    {
     "data": {
      "text/plain": [
       "5572"
      ]
     },
     "execution_count": 70,
     "metadata": {},
     "output_type": "execute_result"
    }
   ],
   "source": [
    "len(df)"
   ]
  },
  {
   "cell_type": "markdown",
   "id": "e2c7ecc5",
   "metadata": {},
   "source": [
    "## Drop the NaN columns"
   ]
  },
  {
   "cell_type": "code",
   "execution_count": 71,
   "id": "1749a13e",
   "metadata": {},
   "outputs": [
    {
     "data": {
      "text/plain": [
       "['Unnamed: 2', 'Unnamed: 3', 'Unnamed: 4']"
      ]
     },
     "execution_count": 71,
     "metadata": {},
     "output_type": "execute_result"
    }
   ],
   "source": [
    "column = df.columns\n",
    "removed_col = []\n",
    "for c in column:\n",
    "    if df[c].isnull().values.any():\n",
    "        removed_col.append(c)\n",
    "        \n",
    "removed_col"
   ]
  },
  {
   "cell_type": "code",
   "execution_count": 72,
   "id": "6045d273",
   "metadata": {},
   "outputs": [
    {
     "data": {
      "text/html": [
       "<div>\n",
       "<style scoped>\n",
       "    .dataframe tbody tr th:only-of-type {\n",
       "        vertical-align: middle;\n",
       "    }\n",
       "\n",
       "    .dataframe tbody tr th {\n",
       "        vertical-align: top;\n",
       "    }\n",
       "\n",
       "    .dataframe thead th {\n",
       "        text-align: right;\n",
       "    }\n",
       "</style>\n",
       "<table border=\"1\" class=\"dataframe\">\n",
       "  <thead>\n",
       "    <tr style=\"text-align: right;\">\n",
       "      <th></th>\n",
       "      <th>v1</th>\n",
       "      <th>v2</th>\n",
       "    </tr>\n",
       "  </thead>\n",
       "  <tbody>\n",
       "    <tr>\n",
       "      <th>0</th>\n",
       "      <td>ham</td>\n",
       "      <td>Go until jurong point, crazy.. Available only ...</td>\n",
       "    </tr>\n",
       "    <tr>\n",
       "      <th>1</th>\n",
       "      <td>ham</td>\n",
       "      <td>Ok lar... Joking wif u oni...</td>\n",
       "    </tr>\n",
       "    <tr>\n",
       "      <th>2</th>\n",
       "      <td>spam</td>\n",
       "      <td>Free entry in 2 a wkly comp to win FA Cup fina...</td>\n",
       "    </tr>\n",
       "    <tr>\n",
       "      <th>3</th>\n",
       "      <td>ham</td>\n",
       "      <td>U dun say so early hor... U c already then say...</td>\n",
       "    </tr>\n",
       "    <tr>\n",
       "      <th>4</th>\n",
       "      <td>ham</td>\n",
       "      <td>Nah I don't think he goes to usf, he lives aro...</td>\n",
       "    </tr>\n",
       "  </tbody>\n",
       "</table>\n",
       "</div>"
      ],
      "text/plain": [
       "     v1                                                 v2\n",
       "0   ham  Go until jurong point, crazy.. Available only ...\n",
       "1   ham                      Ok lar... Joking wif u oni...\n",
       "2  spam  Free entry in 2 a wkly comp to win FA Cup fina...\n",
       "3   ham  U dun say so early hor... U c already then say...\n",
       "4   ham  Nah I don't think he goes to usf, he lives aro..."
      ]
     },
     "execution_count": 72,
     "metadata": {},
     "output_type": "execute_result"
    }
   ],
   "source": [
    "df = df.drop(labels=removed_col, axis=1)\n",
    "df.head()"
   ]
  },
  {
   "cell_type": "markdown",
   "id": "6fbb04b7",
   "metadata": {},
   "source": [
    "## Remove empty string"
   ]
  },
  {
   "cell_type": "code",
   "execution_count": 73,
   "id": "3a2b0dc6",
   "metadata": {},
   "outputs": [],
   "source": [
    "def clean_list(line):\n",
    "    removed_words = []\n",
    "    for i in range(len(line) - 1):\n",
    "        if line[i] == '':\n",
    "            removed_words.append(line[i])\n",
    "        else:\n",
    "            for s in line[i]:\n",
    "                if s < 'a' and s > 'Z':\n",
    "                    #print(w)\n",
    "                    removed_words.append(line[i])\n",
    "                    break\n",
    "                elif s > 'z':\n",
    "                    #print(w)\n",
    "                    removed_words.append(line[i])\n",
    "                    break\n",
    "                elif s < 'A':\n",
    "                    #print(w)\n",
    "                    removed_words.append(line[i])\n",
    "                    break\n",
    "                    \n",
    "    last_word = line[len(line)-1]\n",
    "    last_word = last_word[:-1]\n",
    "    line[-1] = last_word\n",
    "    \n",
    "    if last_word == '':\n",
    "        removed_words.append(last_word)\n",
    "    else:\n",
    "        for s in last_word:\n",
    "            if s < 'a' and s > 'Z':\n",
    "                #print(w)\n",
    "                removed_words.append(last_word)\n",
    "                break\n",
    "            elif s > 'z':\n",
    "                #print(w)\n",
    "                removed_words.append(last_word)\n",
    "                break\n",
    "            elif s < 'A':\n",
    "                #print(w)\n",
    "                removed_words.append(last_word)\n",
    "                break\n",
    "\n",
    "    \n",
    "    for i in removed_words:\n",
    "        line.remove(i)\n",
    "        \n",
    "    return line"
   ]
  },
  {
   "cell_type": "markdown",
   "id": "a52551a5",
   "metadata": {},
   "source": [
    "## Split the email string into a list of words"
   ]
  },
  {
   "cell_type": "code",
   "execution_count": 74,
   "id": "093d9ac9",
   "metadata": {},
   "outputs": [],
   "source": [
    "def clean_email(msg, label):\n",
    "    data = {}\n",
    "    \n",
    "    line = re.split(r\"[:,. ]\", msg)\n",
    "    line = clean_list(line)\n",
    "    \n",
    "    data['email'] = line\n",
    "    data['label'] = label\n",
    "    \n",
    "    return data"
   ]
  },
  {
   "cell_type": "markdown",
   "id": "24836d59",
   "metadata": {},
   "source": [
    "## Clean the dataset"
   ]
  },
  {
   "cell_type": "code",
   "execution_count": 75,
   "id": "c5f78622",
   "metadata": {},
   "outputs": [
    {
     "data": {
      "text/plain": [
       "[{'email': ['Go',\n",
       "   'until',\n",
       "   'jurong',\n",
       "   'point',\n",
       "   'crazy',\n",
       "   'Available',\n",
       "   'only',\n",
       "   'in',\n",
       "   'bugis',\n",
       "   'n',\n",
       "   'great',\n",
       "   'world',\n",
       "   'la',\n",
       "   'e',\n",
       "   'buffet',\n",
       "   'Cine',\n",
       "   'there',\n",
       "   'got',\n",
       "   'amore',\n",
       "   'wat'],\n",
       "  'label': 'ham'},\n",
       " {'email': ['Ok', 'lar', 'Joking', 'wif', 'u', 'oni'], 'label': 'ham'}]"
      ]
     },
     "execution_count": 75,
     "metadata": {},
     "output_type": "execute_result"
    }
   ],
   "source": [
    "email_list = []\n",
    "\n",
    "# iterate through all emails\n",
    "for i in range(len(df)):\n",
    "    msg = df.iloc[i, 1]\n",
    "    label = df.iloc[i, 0]\n",
    "    email = clean_email(msg, label)\n",
    "    \n",
    "    email_list.append(email)\n",
    "\n",
    "email_list[:2]"
   ]
  },
  {
   "cell_type": "markdown",
   "id": "48ad2387",
   "metadata": {},
   "source": [
    "## Split the dataset"
   ]
  },
  {
   "cell_type": "code",
   "execution_count": 76,
   "id": "a978e7c4",
   "metadata": {},
   "outputs": [
    {
     "name": "stdout",
     "output_type": "stream",
     "text": [
      "train data: 3900\n",
      "test data: 1672\n"
     ]
    }
   ],
   "source": [
    "tot_email = len(email_list)\n",
    "mid = int(0.7*tot_email)\n",
    "\n",
    "# shuffle the dataset\n",
    "random.shuffle(email_list)\n",
    "\n",
    "train_data = email_list[:mid]\n",
    "test_data = email_list[mid:]\n",
    "\n",
    "print(f'train data: {len(train_data)}')\n",
    "print(f'test data: {len(test_data)}')"
   ]
  },
  {
   "cell_type": "markdown",
   "id": "4f86e439",
   "metadata": {},
   "source": [
    "## calculate frequency of each word in the email "
   ]
  },
  {
   "cell_type": "code",
   "execution_count": 77,
   "id": "ee3c17e5",
   "metadata": {},
   "outputs": [],
   "source": [
    "def find_freq(cur_dict, freq_list):\n",
    "    for i in cur_dict['email']:\n",
    "        if i not in freq_list:\n",
    "            freq_list[i] = 1\n",
    "        else:\n",
    "            freq_list[i] += 1\n",
    "            \n",
    "    return freq_list"
   ]
  },
  {
   "cell_type": "markdown",
   "id": "01f9b935",
   "metadata": {},
   "source": [
    "## Use naive bayes to find probabilty of each words"
   ]
  },
  {
   "cell_type": "code",
   "execution_count": 78,
   "id": "5c32850b",
   "metadata": {},
   "outputs": [],
   "source": [
    "spam_freq = {}\n",
    "ham_freq = {}\n",
    "\n",
    "for i in train_data:\n",
    "    if i['label'] == 'spam':\n",
    "        spam_freq = find_freq(i, spam_freq)\n",
    "    elif i['label'] == 'ham':\n",
    "        ham_freq = find_freq(i, ham_freq)\n",
    "        \n",
    "ham_word_cnt = 0\n",
    "spam_word_cnt = 0\n",
    "for i in spam_freq:\n",
    "    spam_word_cnt += spam_freq[i]\n",
    "for i in ham_freq:\n",
    "    ham_word_cnt += ham_freq[i]\n",
    "    \n",
    "spam_prob = {}\n",
    "ham_prob = {}\n",
    "for i in spam_freq:\n",
    "    spam_prob[i] = spam_freq[i] / spam_word_cnt\n",
    "for i in ham_freq:\n",
    "    ham_prob[i] = ham_freq[i] / ham_word_cnt\n",
    "    \n"
   ]
  },
  {
   "cell_type": "code",
   "execution_count": 79,
   "id": "c730bd45",
   "metadata": {},
   "outputs": [
    {
     "name": "stdout",
     "output_type": "stream",
     "text": [
      "accuracy is: 89.653 %\n"
     ]
    }
   ],
   "source": [
    "num_right = 0\n",
    "# iterate through each email\n",
    "for email in test_data:\n",
    "    check = ''\n",
    "    prob_in_spam = 1\n",
    "    prob_in_ham = 1\n",
    "    for w in email['email']:\n",
    "        if w in spam_prob and w in ham_prob:\n",
    "            prob_in_spam *= spam_prob[w]\n",
    "            prob_in_ham *= ham_prob[w]\n",
    "        \n",
    "    if prob_in_spam > prob_in_ham:\n",
    "        check = 'spam'\n",
    "    else:\n",
    "        check = 'ham'\n",
    "        \n",
    "    if email['label'] == check:\n",
    "        num_right += 1\n",
    "        \n",
    "accuracy = num_right / len(test_data)\n",
    "print(f'accuracy is: {accuracy * 100:.3f} %')"
   ]
  },
  {
   "cell_type": "code",
   "execution_count": null,
   "id": "b1938910",
   "metadata": {},
   "outputs": [],
   "source": []
  }
 ],
 "metadata": {
  "kernelspec": {
   "display_name": "Python 3 (ipykernel)",
   "language": "python",
   "name": "python3"
  },
  "language_info": {
   "codemirror_mode": {
    "name": "ipython",
    "version": 3
   },
   "file_extension": ".py",
   "mimetype": "text/x-python",
   "name": "python",
   "nbconvert_exporter": "python",
   "pygments_lexer": "ipython3",
   "version": "3.9.7"
  }
 },
 "nbformat": 4,
 "nbformat_minor": 5
}
